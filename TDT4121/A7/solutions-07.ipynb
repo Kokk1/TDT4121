{
 "cells": [
  {
   "cell_type": "markdown",
   "metadata": {},
   "source": [
    "#### Solution\n",
    "# Assignment 7 - Network Flow\n",
    "## Part 2 - Edmonds-Karp"
   ]
  },
  {
   "cell_type": "code",
   "execution_count": 1,
   "metadata": {},
   "outputs": [],
   "source": [
    "capacities = [\n",
    "    #a, b, c, d, e, f\n",
    "    [0, 0, 9, 9, 0, 0],  # a\n",
    "    [9, 0, 0, 4, 5, 0],  # b\n",
    "    [0, 9, 0, 0, 0, 0],  # c\n",
    "    [0, 0, 0, 0, 9, 4],  # d\n",
    "    [0, 0, 3, 0, 0, 9],  # e\n",
    "    [0, 0, 5, 0, 0, 0],  # f\n",
    "]\n",
    "node_labels = [\"a\", \"b\", \"c\", \"d\", \"e\", \"f\"]"
   ]
  },
  {
   "cell_type": "markdown",
   "metadata": {},
   "source": [
    "### Helper Functions"
   ]
  },
  {
   "cell_type": "code",
   "execution_count": 2,
   "metadata": {},
   "outputs": [
    {
     "name": "stdout",
     "output_type": "stream",
     "text": [
      "[0, 1, 2, 3, 4, 5] => abcdef\n"
     ]
    }
   ],
   "source": [
    "def to_str(node_index: int) -> str:\n",
    "    return node_labels[node_index]\n",
    "\n",
    "\n",
    "def to_index(node_label: str) -> int:\n",
    "    return node_labels.index(node_label)\n",
    "\n",
    "\n",
    "def path_to_str(path: list) -> str:\n",
    "    \"\"\"convert a path to a easy to read string of the visited nodes\n",
    "    for instance: \"abcdef\"\"\"\n",
    "    if path is None:\n",
    "        return \"None\"\n",
    "    return \"\".join([to_str(node_index) for node_index in path])\n",
    "\n",
    "\n",
    "# Testing the function\n",
    "print(f\"[0, 1, 2, 3, 4, 5] => {path_to_str([0, 1, 2, 3, 4, 5])}\")\n"
   ]
  },
  {
   "cell_type": "code",
   "execution_count": 3,
   "metadata": {},
   "outputs": [
    {
     "name": "stdout",
     "output_type": "stream",
     "text": [
      "[[0, 0, 9, 9, 0, 0], [9, 0, 0, 4, 5, 0], [0, 9, 0, 0, 0, 0], [0, 0, 0, 0, 9, 4], [0, 0, 3, 0, 0, 9], [0, 0, 5, 0, 0, 0]]\n",
      "[[0, 0, 9, 9, 0, 0], [9, 0, 0, 4, 5, 0], [0, 9, 0, 0, 0, 0], [0, 0, 0, 0, 9, 4], [0, 0, 3, 0, 0, 9], [0, 0, 5, 0, 0, 0]]\n"
     ]
    }
   ],
   "source": [
    "def duplicate(lst: list) -> list:\n",
    "    \"\"\"Duplicate/make copy of the list given,\n",
    "    should be used to not edit original`capacities` during the algorithm\n",
    "    se we can rerun each cell individually without resetting entire notebook\"\"\"\n",
    "    return [row[:] for row in lst]\n",
    "\n",
    "\n",
    "# Testing the function\n",
    "print(f\"{capacities}\\n{duplicate(capacities)}\")\n"
   ]
  },
  {
   "cell_type": "markdown",
   "metadata": {},
   "source": [
    "### Implementing Edmonds-Karp"
   ]
  },
  {
   "cell_type": "code",
   "execution_count": 4,
   "metadata": {},
   "outputs": [
    {
     "name": "stdout",
     "output_type": "stream",
     "text": [
      "adf\n"
     ]
    }
   ],
   "source": [
    "def BFS(C: list, start: int, end: int):\n",
    "    shortest_paths = {start: [start]}\n",
    "    visited, queue = [], [start]\n",
    "\n",
    "    while queue != []:\n",
    "        current_node = queue.pop(0)\n",
    "        visited.append(current_node)\n",
    "\n",
    "        # go through all possible connections from current node\n",
    "        for node in range(len(capacities[current_node])):\n",
    "            if node in visited or node in queue:\n",
    "                continue\n",
    "\n",
    "            # check if there is available capacity to node\n",
    "            capacity = C[current_node][node]\n",
    "            if capacity == 0:\n",
    "                continue\n",
    "\n",
    "            shortest_paths[node] = shortest_paths[current_node] + [node]\n",
    "            if node == end:\n",
    "                return shortest_paths[end]\n",
    "\n",
    "            queue.append(node)\n",
    "    return None\n",
    "\n",
    "\n",
    "# Testing the function (from \"a\" to \"f\")\n",
    "print(path_to_str(BFS(capacities, to_index(\"a\"), to_index(\"f\"))))\n"
   ]
  },
  {
   "cell_type": "code",
   "execution_count": 5,
   "metadata": {},
   "outputs": [],
   "source": [
    "def update_capacities(C: list, path: list) -> int:\n",
    "    \"\"\"Update all capacities along the path with appropriate flow value\"\"\"\n",
    "    # find lowest capacity (bottleneck) along the path\n",
    "    min_capacity = 999\n",
    "    for i in range(len(path) - 1):\n",
    "        u, v = path[i], path[i + 1]\n",
    "        capacity = C[u][v]\n",
    "        if capacity < min_capacity:\n",
    "            min_capacity = capacity\n",
    "    # update with this capacity along the path\n",
    "    for i in range(len(path) - 1):\n",
    "        u, v = path[i], path[i + 1]\n",
    "        C[u][v] -= min_capacity\n",
    "        C[v][u] += min_capacity  # backtracing flow\n",
    "\n",
    "    return min_capacity\n"
   ]
  },
  {
   "cell_type": "code",
   "execution_count": 6,
   "metadata": {},
   "outputs": [
    {
     "name": "stdout",
     "output_type": "stream",
     "text": [
      "4 : bdf\n",
      "5 : bef\n",
      "4 : badef\n",
      "Maximum Flow (b-f): 13\n"
     ]
    }
   ],
   "source": [
    "def edmonds_karp(C: list, source: int, sink: int):\n",
    "    C = duplicate(C)  # duplicate to not alter original array\n",
    "    max_flow = 0\n",
    "\n",
    "    while True:\n",
    "        # Find shortest path from source to sink\n",
    "        path = BFS(C, source, sink)\n",
    "        if path == None:\n",
    "            # No more paths from source to sink, we are done\n",
    "            break\n",
    "        # Update all necessary capacities along the path\n",
    "        flow = update_capacities(C, path)\n",
    "        max_flow += flow  # increase max_flow accordingly\n",
    "        print(f\"{flow} : {path_to_str(path)}\")\n",
    "\n",
    "    # we are done, return the max flow\n",
    "    return max_flow\n",
    "\n",
    "\n",
    "max_flow = edmonds_karp(capacities, to_index(\"b\"), to_index(\"f\"))  # from b to f\n",
    "print(f\"Maximum Flow (b-f): {max_flow}\")\n"
   ]
  },
  {
   "cell_type": "code",
   "execution_count": 7,
   "metadata": {},
   "outputs": [
    {
     "name": "stdout",
     "output_type": "stream",
     "text": [
      "9 : acb\n",
      "Maximum Flow (a-b) is 9\n",
      "9 : ac\n",
      "3 : adec\n",
      "4 : adfc\n",
      "1 : adefc\n",
      "Maximum Flow (a-c) is 17\n",
      "9 : ad\n",
      "4 : acbd\n",
      "Maximum Flow (a-d) is 13\n",
      "9 : ade\n",
      "5 : acbe\n",
      "Maximum Flow (a-e) is 14\n",
      "4 : adf\n",
      "5 : adef\n",
      "4 : acbef\n",
      "Maximum Flow (a-f) is 13\n",
      "9 : ba\n",
      "Maximum Flow (b-a) is 9\n",
      "9 : bac\n",
      "3 : bec\n",
      "4 : bdfc\n",
      "1 : befc\n",
      "Maximum Flow (b-c) is 17\n",
      "4 : bd\n",
      "9 : bad\n",
      "Maximum Flow (b-d) is 13\n",
      "5 : be\n",
      "4 : bde\n",
      "5 : bade\n",
      "Maximum Flow (b-e) is 14\n",
      "4 : bdf\n",
      "5 : bef\n",
      "4 : badef\n",
      "Maximum Flow (b-f) is 13\n",
      "9 : cba\n",
      "Maximum Flow (c-a) is 9\n",
      "9 : cb\n",
      "Maximum Flow (c-b) is 9\n",
      "4 : cbd\n",
      "5 : cbad\n",
      "Maximum Flow (c-d) is 9\n",
      "5 : cbe\n",
      "4 : cbde\n",
      "Maximum Flow (c-e) is 9\n",
      "4 : cbdf\n",
      "5 : cbef\n",
      "Maximum Flow (c-f) is 9\n",
      "3 : decba\n",
      "4 : dfcba\n",
      "1 : defcba\n",
      "Maximum Flow (d-a) is 8\n",
      "3 : decb\n",
      "4 : dfcb\n",
      "1 : defcb\n",
      "Maximum Flow (d-b) is 8\n",
      "3 : dec\n",
      "4 : dfc\n",
      "1 : defc\n",
      "Maximum Flow (d-c) is 8\n",
      "9 : de\n",
      "4 : dfcbe\n",
      "Maximum Flow (d-e) is 13\n",
      "4 : df\n",
      "9 : def\n",
      "Maximum Flow (d-f) is 13\n",
      "3 : ecba\n",
      "5 : efcba\n",
      "Maximum Flow (e-a) is 8\n",
      "3 : ecb\n",
      "5 : efcb\n",
      "Maximum Flow (e-b) is 8\n",
      "3 : ec\n",
      "5 : efc\n",
      "Maximum Flow (e-c) is 8\n",
      "3 : ecbd\n",
      "1 : efcbd\n",
      "4 : efcbad\n",
      "Maximum Flow (e-d) is 8\n",
      "9 : ef\n",
      "3 : ecbdf\n",
      "Maximum Flow (e-f) is 12\n",
      "5 : fcba\n",
      "Maximum Flow (f-a) is 5\n",
      "5 : fcb\n",
      "Maximum Flow (f-b) is 5\n",
      "5 : fc\n",
      "Maximum Flow (f-c) is 5\n",
      "4 : fcbd\n",
      "1 : fcbad\n",
      "Maximum Flow (f-d) is 5\n",
      "5 : fcbe\n",
      "Maximum Flow (f-e) is 5\n"
     ]
    }
   ],
   "source": [
    "# Finding maximum flow from everyone to everyone (used to verify your solution)\n",
    "for i in range(len(capacities)):\n",
    "    for j in range(len(capacities[i])):\n",
    "        if i == j:\n",
    "            continue\n",
    "        max_flow = edmonds_karp(capacities, i, j)\n",
    "        print(f\"Maximum Flow ({to_str(i)}-{to_str(j)}) is {max_flow}\")\n"
   ]
  }
 ],
 "metadata": {
  "kernelspec": {
   "display_name": "Python 3 (ipykernel)",
   "language": "python",
   "name": "python3"
  },
  "language_info": {
   "codemirror_mode": {
    "name": "ipython",
    "version": 3
   },
   "file_extension": ".py",
   "mimetype": "text/x-python",
   "name": "python",
   "nbconvert_exporter": "python",
   "pygments_lexer": "ipython3",
   "version": "3.12.7"
  },
  "vscode": {
   "interpreter": {
    "hash": "aee8b7b246df8f9039afb4144a1f6fd8d2ca17a180786b69acc140d282b71a49"
   }
  }
 },
 "nbformat": 4,
 "nbformat_minor": 4
}
