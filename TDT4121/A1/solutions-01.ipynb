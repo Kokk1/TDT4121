{
 "cells": [
  {
   "cell_type": "markdown",
   "metadata": {},
   "source": [
    "#### Solution\n",
    "# Assignment 1"
   ]
  },
  {
   "cell_type": "markdown",
   "metadata": {},
   "source": [
    "### 1 - Data structures setup"
   ]
  },
  {
   "cell_type": "code",
   "execution_count": 1,
   "metadata": {},
   "outputs": [
    {
     "name": "stdout",
     "output_type": "stream",
     "text": [
      "m_pref: {'Bruce': ['Talia', 'Selina', 'Pamela'], 'Tim': ['Pamela', 'Selina', 'Talia'], 'Alfred': ['Pamela', 'Talia', 'Selina']}\n",
      "w_pref: {'Selina': ['Bruce', 'Tim', 'Alfred'], 'Talia': ['Bruce', 'Alfred', 'Tim'], 'Pamela': ['Tim', 'Alfred', 'Bruce']}\n"
     ]
    }
   ],
   "source": [
    "from collections import namedtuple\n",
    "\n",
    "# TODO Fill in with names men and their preferences from our dataset above, key = name, value = preference list\n",
    "m_pref = {\n",
    "    \"Bruce\": [\"Talia\", \"Selina\", \"Pamela\"],\n",
    "    \"Tim\": [\"Pamela\", \"Selina\", \"Talia\"],\n",
    "    \"Alfred\": [\"Pamela\", \"Talia\", \"Selina\"],\n",
    "}\n",
    "\n",
    "# TODO Fill in with names of the women and their preferences from our dataset above, key = name, value = preference list\n",
    "w_pref = {\n",
    "    \"Selina\": [\"Bruce\", \"Tim\", \"Alfred\"],\n",
    "    \"Talia\": [\"Bruce\", \"Alfred\", \"Tim\"],\n",
    "    \"Pamela\": [\"Tim\", \"Alfred\", \"Bruce\"],\n",
    "}\n",
    "\n",
    "# Sets up the Pair tuple: Named tuple with two elements: man and woman\n",
    "Pair = namedtuple(\"Pair\", \"man woman\")\n",
    "\n",
    "# Prints to test if you inputted it correctly\n",
    "print(f\"m_pref: {m_pref}\\nw_pref: {w_pref}\")"
   ]
  },
  {
   "cell_type": "markdown",
   "metadata": {},
   "source": [
    "### 2 - Free Men"
   ]
  },
  {
   "cell_type": "code",
   "execution_count": 2,
   "metadata": {},
   "outputs": [
    {
     "name": "stdout",
     "output_type": "stream",
     "text": [
      "['Bruce', 'Tim', 'Alfred']\n"
     ]
    }
   ],
   "source": [
    "def init_free_men() -> list:\n",
    "    free_men = []\n",
    "    for men in m_pref:\n",
    "        free_men.append(men)\n",
    "    return free_men\n",
    "\n",
    "print(init_free_men())"
   ]
  },
  {
   "cell_type": "markdown",
   "metadata": {},
   "source": [
    "### 3 - Finding a match for a single man"
   ]
  },
  {
   "cell_type": "code",
   "execution_count": 3,
   "metadata": {},
   "outputs": [],
   "source": [
    "def single_matching(man: str, free_men: list, current_matching: list) -> None:\n",
    "    # We start by looping through the preferences of the men to find a suitable woman\n",
    "    for woman in m_pref[man]:\n",
    "        match = []\n",
    "        # We then check the return set to see if the current woman has any matches already made\n",
    "        # If she does they are saved in match\n",
    "        for pair in current_matching:\n",
    "            if pair.woman == woman:\n",
    "                match = pair\n",
    "                break\n",
    "\n",
    "        if len(match) == 0:\n",
    "            # the woman is not in an engagement\n",
    "            # create a new pair and append it to the return set\n",
    "            current_matching.append(Pair(man, woman))\n",
    "            # remove the man from the free list\n",
    "            free_men.remove(man)\n",
    "            # break the loop\n",
    "            break\n",
    "\n",
    "        else:\n",
    "            # the woman is in an engagement:\n",
    "            current_match = w_pref[woman].index(match[0])\n",
    "            potential_match = w_pref[woman].index(man)\n",
    "            if current_match > potential_match:\n",
    "                # the current man, is a lower priority then the proposing one:\n",
    "                # remove the proposing man from the free list\n",
    "                free_men.remove(man)\n",
    "                # add the current man to the free list\n",
    "                free_men.append(match[0])\n",
    "                # make a new pair and append them to the return set\n",
    "                current_matching.append(Pair(man, woman))\n",
    "                # remove the old pair from the return set\n",
    "                current_matching.remove(Pair(match[0], woman))\n",
    "                # break the loop\n",
    "                break"
   ]
  },
  {
   "cell_type": "markdown",
   "metadata": {},
   "source": [
    "### 4 - Stable matching on all pairs"
   ]
  },
  {
   "cell_type": "code",
   "execution_count": 4,
   "metadata": {},
   "outputs": [],
   "source": [
    "def stable_matching(free_men: list) -> list:\n",
    "    stable_matching_set = []\n",
    "    while len(free_men) > 0:\n",
    "        for man in free_men:\n",
    "            single_matching(man, free_men, stable_matching_set)\n",
    "    return stable_matching_set"
   ]
  },
  {
   "cell_type": "code",
   "execution_count": 5,
   "metadata": {},
   "outputs": [
    {
     "name": "stdout",
     "output_type": "stream",
     "text": [
      "Bruce <-> Talia\n",
      "Tim <-> Pamela\n",
      "Alfred <-> Selina\n"
     ]
    }
   ],
   "source": [
    "def main():\n",
    "    free_men = init_free_men()\n",
    "    matching = stable_matching(free_men)\n",
    "\n",
    "    for match in matching:\n",
    "        print(f\"{match.man} <-> {match.woman}\")\n",
    "\n",
    "main()"
   ]
  }
 ],
 "metadata": {
  "kernelspec": {
   "display_name": "Python 3 (ipykernel)",
   "language": "python",
   "name": "python3"
  },
  "language_info": {
   "codemirror_mode": {
    "name": "ipython",
    "version": 3
   },
   "file_extension": ".py",
   "mimetype": "text/x-python",
   "name": "python",
   "nbconvert_exporter": "python",
   "pygments_lexer": "ipython3",
   "version": "3.12.4"
  },
  "vscode": {
   "interpreter": {
    "hash": "aee8b7b246df8f9039afb4144a1f6fd8d2ca17a180786b69acc140d282b71a49"
   }
  }
 },
 "nbformat": 4,
 "nbformat_minor": 4
}
