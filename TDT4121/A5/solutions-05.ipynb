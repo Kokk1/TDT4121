{
 "cells": [
  {
   "cell_type": "markdown",
   "metadata": {},
   "source": [
    "#### Solution\n",
    "# Assignment 5 - Greedy Algorithms\n",
    "## Part 2 - Huffman algorithm "
   ]
  },
  {
   "cell_type": "markdown",
   "metadata": {},
   "source": [
    "### 1 - Data Structure Setup"
   ]
  },
  {
   "cell_type": "code",
   "execution_count": 1,
   "metadata": {},
   "outputs": [],
   "source": [
    "class HeapNode:\n",
    "    def __init__(self, character, value):\n",
    "        self.character = character\n",
    "        self.value = value\n",
    "        self.left_child = None\n",
    "        self.right_child = None\n",
    "\n",
    "    def __lt__(self, other):\n",
    "        if not isinstance(other, HeapNode):\n",
    "            return False\n",
    "        return self.value < other.value\n",
    "\n",
    "    def __eq__(self, other):\n",
    "        if not isinstance(other, HeapNode):\n",
    "            return False\n",
    "        return self.value == other.value\n",
    "\n",
    "    def __str__(self) -> str:\n",
    "        string = f\"Character: '{self.character}' \"\n",
    "        string += f\"Value: '{self.value}' \"\n",
    "        string += f\"Left child: '{self.left_child}' \"\n",
    "        string += f\"Right child: '{self.right_child}' \"\n",
    "        return string\n",
    "\n",
    "    def __repr__(self) -> str:\n",
    "        return self.__str__()"
   ]
  },
  {
   "cell_type": "markdown",
   "metadata": {},
   "source": [
    "### 2 - Making the frequency heap "
   ]
  },
  {
   "cell_type": "code",
   "execution_count": 2,
   "metadata": {},
   "outputs": [
    {
     "name": "stdout",
     "output_type": "stream",
     "text": [
      "Character: 'A' Value: '1' Left child: 'None' Right child: 'None' \n",
      "Character: 'B' Value: '2' Left child: 'None' Right child: 'None' \n",
      "Character: 'C' Value: '3' Left child: 'None' Right child: 'None' \n",
      "Character: 'D' Value: '4' Left child: 'None' Right child: 'None' \n"
     ]
    }
   ],
   "source": [
    "import heapq\n",
    "\n",
    "\n",
    "def make_frequency_heap(string: str) -> list:\n",
    "    # Initialize freq dictionary and heap array\n",
    "    freq = {}\n",
    "    heap = []\n",
    "    # loop through the characters in the string\n",
    "    for character in string:\n",
    "        if character not in freq:\n",
    "            # insert them into the freq dictionary,\n",
    "            # with the character being they key and the value being the frequency\n",
    "            freq[character] = 1\n",
    "        else:\n",
    "            # increase the frequency\n",
    "            freq[character] += 1\n",
    "\n",
    "    for character in freq:\n",
    "        # insert the values from the freq dictionary into the heap\n",
    "        node = HeapNode(character, freq[character])\n",
    "        heapq.heappush(heap, node)\n",
    "\n",
    "    return heap\n",
    "\n",
    "\n",
    "teststring = \"ABBCCCDDDD\"\n",
    "heap = make_frequency_heap(teststring)\n",
    "for node in heap:\n",
    "    print(node)"
   ]
  },
  {
   "cell_type": "markdown",
   "metadata": {},
   "source": [
    "### 3 - Merging the codes"
   ]
  },
  {
   "cell_type": "code",
   "execution_count": 3,
   "metadata": {},
   "outputs": [],
   "source": [
    "def merge_code(heap: list) -> HeapNode:\n",
    "    # While there is more than one node in the heap\n",
    "    while len(heap) > 1:\n",
    "        # Extract the two nodes with the lowest frequency letters from the heap\n",
    "        # (remember that the letter with the lowest frequency will always be at the top of the heap)\n",
    "        node1 = heapq.heappop(heap)\n",
    "        node2 = heapq.heappop(heap)\n",
    "        # Create a new node that has the sum of the values of the two nodes as its value,\n",
    "        # and the two nodes as left and right child respectively\n",
    "        newnode = HeapNode(None, node1.value + node2.value)\n",
    "        newnode.left_child = node1\n",
    "        newnode.right_child = node2\n",
    "        # Push this new node into the heap\n",
    "        heapq.heappush(heap, newnode)\n",
    "    # Return the root of the tree\n",
    "    return heap[0]"
   ]
  },
  {
   "cell_type": "markdown",
   "metadata": {},
   "source": [
    "### 4 - Traversing the tree"
   ]
  },
  {
   "cell_type": "code",
   "execution_count": 4,
   "metadata": {},
   "outputs": [],
   "source": [
    "def traverse_huffman(rootnode: HeapNode) -> dict:\n",
    "    # Store the codes for each letter\n",
    "    codes = {}\n",
    "    # Keeps track of the current code\n",
    "    current_code = \"\"\n",
    "    # traverse recursively\n",
    "    traverse_huffman_recursive(rootnode, current_code, codes)\n",
    "    # return finished encoding\n",
    "    return codes\n",
    "\n",
    "\n",
    "def traverse_huffman_recursive(node: HeapNode, current_code: str, codes: dict) -> None:\n",
    "    # if there exists a character in the node,\n",
    "    if node.character != None:\n",
    "        # append current_code as the value and the character\n",
    "        codes[node.character] = current_code\n",
    "        # as the key in codes and return\n",
    "        return\n",
    "\n",
    "    # Left side of the tree, append 0 to the current node\n",
    "    traverse_huffman_recursive(node.left_child, current_code + \"0\", codes)\n",
    "    # Right side of the tree, append 1 to the current node\n",
    "    traverse_huffman_recursive(node.right_child, current_code + \"1\", codes)"
   ]
  },
  {
   "cell_type": "markdown",
   "metadata": {},
   "source": [
    "### Running the program\n",
    "Here we have a main function to run the whole program, use it to test if you get the correct output: "
   ]
  },
  {
   "cell_type": "code",
   "execution_count": 5,
   "metadata": {},
   "outputs": [
    {
     "name": "stdout",
     "output_type": "stream",
     "text": [
      "{'C': '00', 'E': '01', 'D': '100', 'A': '101', 'B': '11'}\n"
     ]
    }
   ],
   "source": [
    "def main():\n",
    "    text = \"ABBBBCCCDDEEEEAAAEEBBBCC\"\n",
    "    heap = make_frequency_heap(text)\n",
    "    rootnode = merge_code(heap)\n",
    "    encoding = traverse_huffman(rootnode)\n",
    "    print(encoding)\n",
    "\n",
    "\n",
    "main()"
   ]
  }
 ],
 "metadata": {
  "kernelspec": {
   "display_name": "Python 3 (ipykernel)",
   "language": "python",
   "name": "python3"
  },
  "language_info": {
   "codemirror_mode": {
    "name": "ipython",
    "version": 3
   },
   "file_extension": ".py",
   "mimetype": "text/x-python",
   "name": "python",
   "nbconvert_exporter": "python",
   "pygments_lexer": "ipython3",
   "version": "3.12.6"
  },
  "vscode": {
   "interpreter": {
    "hash": "aee8b7b246df8f9039afb4144a1f6fd8d2ca17a180786b69acc140d282b71a49"
   }
  }
 },
 "nbformat": 4,
 "nbformat_minor": 4
}
