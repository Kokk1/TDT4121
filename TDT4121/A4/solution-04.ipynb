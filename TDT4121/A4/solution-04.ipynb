{
 "cells": [
  {
   "cell_type": "markdown",
   "metadata": {},
   "source": [
    "#### Solution\n",
    "# Assignment 4: Divide and Conquer\n",
    "## Part 2 - Merge Sort"
   ]
  },
  {
   "cell_type": "markdown",
   "metadata": {},
   "source": [
    "### 1 - Comparing Values"
   ]
  },
  {
   "cell_type": "code",
   "execution_count": 1,
   "metadata": {},
   "outputs": [],
   "source": [
    "def is_smaller(smaller: str, larger: str) -> bool:\n",
    "    \"\"\"Return True if 'smaller' is smallest, False otherwise\"\"\"\n",
    "    if type(smaller) == type(larger):\n",
    "        # Both are of the same type (number or letter) and can be compared directly\n",
    "        return smaller < larger\n",
    "\n",
    "    # We want numbers to count as \"smaller\" than letters\n",
    "    # We know now they are of different types, so that means if 'smaller' is a number\n",
    "    # then 'larger' must be a letter and we return 'True'.\n",
    "    # And if 'smaller' is not a number, then 'larger' must be number. and we return 'False'\n",
    "    return type(smaller) == int"
   ]
  },
  {
   "cell_type": "markdown",
   "metadata": {},
   "source": [
    "### 2 - Merging"
   ]
  },
  {
   "cell_type": "code",
   "execution_count": 2,
   "metadata": {},
   "outputs": [],
   "source": [
    "def merge(L: list, R: list, array: list):\n",
    "    l = 0  # L index\n",
    "    r = 0  # R index\n",
    "    for i in range(len(array)):\n",
    "\n",
    "        R_is_empty = r == len(R)\n",
    "        L_is_not_empty = l < len(L)\n",
    "\n",
    "        if R_is_empty or (L_is_not_empty and is_smaller(L[l], R[r])):\n",
    "            # Insert Element from L\n",
    "            array[i] = L[l]\n",
    "            l += 1\n",
    "        else:\n",
    "            # Insert Element from R\n",
    "            array[i] = R[r]\n",
    "            r += 1"
   ]
  },
  {
   "cell_type": "markdown",
   "metadata": {},
   "source": [
    "### 3 - Merge Sort"
   ]
  },
  {
   "cell_type": "code",
   "execution_count": 3,
   "metadata": {},
   "outputs": [],
   "source": [
    "def merge_sort(array: list):\n",
    "    if len(array) <= 1:\n",
    "        # array of 0 or 1 elements is already sorted, nothing to be done\n",
    "        return\n",
    "    # Finding the mid of the array\n",
    "    middle_index = len(array) // 2\n",
    "    # Dividing the array elements into 2 halves\n",
    "    L = array[:middle_index]\n",
    "    R = array[middle_index:]\n",
    "    # Sort each half\n",
    "    merge_sort(L)\n",
    "    merge_sort(R)\n",
    "    # Merge the halves\n",
    "    merge(L, R, array)"
   ]
  },
  {
   "cell_type": "markdown",
   "metadata": {},
   "source": [
    "### Running the algorithm"
   ]
  },
  {
   "cell_type": "code",
   "execution_count": 4,
   "metadata": {},
   "outputs": [
    {
     "name": "stdout",
     "output_type": "stream",
     "text": [
      "Original Array (9 elements): \n",
      "['c', 'A', 'b', 'C', 42, 'B', 123, 'a', 1]\n",
      "Sorted Array: \n",
      "[1, 42, 123, 'A', 'B', 'C', 'a', 'b', 'c']\n"
     ]
    }
   ],
   "source": [
    "def test_sorting(array: list):\n",
    "    print(f\"Original Array ({len(array)} elements): \\n{array}\")\n",
    "    merge_sort(array)\n",
    "    print(f\"Sorted Array: \\n{array}\")\n",
    "\n",
    "test_sorting(['c', 'A', 'b', 'C', 42, 'B', 123, 'a', 1])"
   ]
  },
  {
   "cell_type": "code",
   "execution_count": 5,
   "metadata": {},
   "outputs": [
    {
     "name": "stdout",
     "output_type": "stream",
     "text": [
      "Original Array (120 elements): \n",
      "[29, 'h', 9, 24, 'n', 'N', 'F', 58, 54, 'H', 's', 'r', 'U', 'K', 21, 56, 'r', 53, 'r', 'V', 32, 'A', 'g', 'P', 63, 'F', 91, 65, 'j', 'l', 'v', 'p', 'J', 14, 87, 'H', 'F', 90, 'i', 'w', 'c', 39, 'X', 74, 12, 'D', 'Q', 13, 'l', 'i', 'Y', 'f', 'p', 'L', 'H', 11, 'L', 16, 95, 'O', 84, 'Y', 'y', 53, 53, 'v', 'X', 34, 1, 'd', 'O', 'P', 'S', 46, 56, 99, 'm', 'U', 83, 64, 'R', 'I', 'P', 36, 73, 'a', 80, 'T', 'O', 59, 'h', 7, 8, 81, 63, 23, 'U', 'V', 'U', 'D', 'S', 24, 9, 'j', 63, 77, 'M', 'g', 'd', 'm', 'q', 'r', 'R', 3, 42, 12, 81, 36, 28, 'B']\n",
      "Sorted Array: \n",
      "[1, 3, 7, 8, 9, 9, 11, 12, 12, 13, 14, 16, 21, 23, 24, 24, 28, 29, 32, 34, 36, 36, 39, 42, 46, 53, 53, 53, 54, 56, 56, 58, 59, 63, 63, 63, 64, 65, 73, 74, 77, 80, 81, 81, 83, 84, 87, 90, 91, 95, 99, 'A', 'B', 'D', 'D', 'F', 'F', 'F', 'H', 'H', 'H', 'I', 'J', 'K', 'L', 'L', 'M', 'N', 'O', 'O', 'O', 'P', 'P', 'P', 'Q', 'R', 'R', 'S', 'S', 'T', 'U', 'U', 'U', 'U', 'V', 'V', 'X', 'X', 'Y', 'Y', 'a', 'c', 'd', 'd', 'f', 'g', 'g', 'h', 'h', 'i', 'i', 'j', 'j', 'l', 'l', 'm', 'm', 'n', 'p', 'p', 'q', 'r', 'r', 'r', 'r', 's', 'v', 'v', 'w', 'y']\n"
     ]
    }
   ],
   "source": [
    "test_sorting([29, 'h', 9, 24, 'n', 'N', 'F', 58, 54, 'H', 's', 'r', 'U', 'K', 21, 56, 'r', 53, 'r', 'V', 32, 'A', 'g', 'P', 63, 'F', 91, 65, 'j', 'l', 'v', 'p', 'J', 14, 87, 'H', 'F', 90, 'i', 'w', 'c', 39, 'X', 74, 12, 'D', 'Q', 13, 'l', 'i', 'Y', 'f', 'p', 'L', 'H', 11, 'L', 16, 95, 'O', 84, 'Y', 'y', 53, 53, 'v', 'X', 34, 1, 'd', 'O', 'P', 'S', 46, 56, 99, 'm', 'U', 83, 64, 'R', 'I', 'P', 36, 73, 'a', 80, 'T', 'O', 59, 'h', 7, 8, 81, 63, 23, 'U', 'V', 'U', 'D', 'S', 24, 9, 'j', 63, 77, 'M', 'g', 'd', 'm', 'q', 'r', 'R', 3, 42, 12, 81, 36, 28, 'B'])"
   ]
  }
 ],
 "metadata": {
  "kernelspec": {
   "display_name": "Python 3 (ipykernel)",
   "language": "python",
   "name": "python3"
  },
  "language_info": {
   "codemirror_mode": {
    "name": "ipython",
    "version": 3
   },
   "file_extension": ".py",
   "mimetype": "text/x-python",
   "name": "python",
   "nbconvert_exporter": "python",
   "pygments_lexer": "ipython3",
   "version": "3.12.6"
  },
  "vscode": {
   "interpreter": {
    "hash": "aee8b7b246df8f9039afb4144a1f6fd8d2ca17a180786b69acc140d282b71a49"
   }
  }
 },
 "nbformat": 4,
 "nbformat_minor": 4
}
