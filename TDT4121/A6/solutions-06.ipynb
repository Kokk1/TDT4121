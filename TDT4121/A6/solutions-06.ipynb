{
 "cells": [
  {
   "cell_type": "markdown",
   "metadata": {},
   "source": [
    "#### Solution\n",
    "# Assignment 6 - Dynamic Programming\n",
    "## Part 1 - Sequence alignment"
   ]
  },
  {
   "cell_type": "markdown",
   "metadata": {},
   "source": [
    "### 1.1 - Setting up $\\alpha$ and $\\delta$"
   ]
  },
  {
   "cell_type": "code",
   "execution_count": 1,
   "metadata": {},
   "outputs": [],
   "source": [
    "alpha = lambda str_x, str_y, i, j: 1 if str_x[i] != str_y[j] else 0\n",
    "delta = 2"
   ]
  },
  {
   "cell_type": "markdown",
   "metadata": {},
   "source": [
    "### 1.2 - Setting up A"
   ]
  },
  {
   "cell_type": "code",
   "execution_count": 2,
   "metadata": {},
   "outputs": [
    {
     "name": "stdout",
     "output_type": "stream",
     "text": [
      " 0  2  4  6  8 10 12 14\n",
      " 2  0  0  0  0  0  0  0\n",
      " 4  0  0  0  0  0  0  0\n",
      " 6  0  0  0  0  0  0  0\n",
      " 8  0  0  0  0  0  0  0\n",
      "10  0  0  0  0  0  0  0\n",
      "12  0  0  0  0  0  0  0\n"
     ]
    }
   ],
   "source": [
    "def array_setup(n: int, m: int) -> list:\n",
    "    # Array A[0 . . . m,0... n]\n",
    "    A = [[0 for i in range(n + 1)] for j in range(m + 1)]\n",
    "\n",
    "    # Initialize A[i, 0]= iδ for each i\n",
    "    for i in range(1, m + 1):\n",
    "        A[i][0] = i * delta\n",
    "\n",
    "    # Initialize A[0, j]= jδ for each j\n",
    "    for j in range(1, n + 1):\n",
    "        A[0][j] = j * delta\n",
    "\n",
    "    return A\n",
    "\n",
    "\n",
    "def array_print(A: list):\n",
    "    \"\"\"Prints a 2D python list of numbers nicely\"\"\"\n",
    "    max_num_len = max((len(str(num)) for row in A for num in row))\n",
    "    for row in A:\n",
    "        print(\" \".join([f\"{' '*(max_num_len-len(str(num)))}{num}\" for num in row]))\n",
    "\n",
    "\n",
    "array_print(array_setup(7, 6))\n"
   ]
  },
  {
   "cell_type": "markdown",
   "metadata": {},
   "source": [
    "### 1.3 - Implementing the algorithm"
   ]
  },
  {
   "cell_type": "code",
   "execution_count": 3,
   "metadata": {},
   "outputs": [],
   "source": [
    "def alignment(x: str, y: str) -> int:\n",
    "    n = len(y)\n",
    "    m = len(x)\n",
    "    A = array_setup(n, m)\n",
    "\n",
    "    for j in range(1, n + 1):\n",
    "        for i in range(1, m + 1):\n",
    "            A[i][j] = min(\n",
    "                alpha(x, y, i - 1, j - 1) + A[i - 1][j - 1],\n",
    "                delta + A[i - 1][j],\n",
    "                delta + A[i][j - 1],\n",
    "            )\n",
    "\n",
    "    array_print(A)\n",
    "    return A[m][n]\n"
   ]
  },
  {
   "cell_type": "markdown",
   "metadata": {},
   "source": [
    "### 1.4 - Testing the algorithm"
   ]
  },
  {
   "cell_type": "code",
   "execution_count": 4,
   "metadata": {},
   "outputs": [
    {
     "name": "stdout",
     "output_type": "stream",
     "text": [
      " 0  2  4  6  8 10 12\n",
      " 2  0  2  4  6  8 10\n",
      " 4  2  0  2  4  6  8\n",
      " 6  4  2  0  2  4  6\n",
      " 8  6  4  2  1  3  4\n",
      "10  8  6  4  3  1  3\n",
      "12 10  8  6  5  3  2\n",
      "14 12 10  8  7  5  3\n",
      "\n",
      "Alignment: 3\n"
     ]
    }
   ],
   "source": [
    "def main():\n",
    "    x = \"PALETTE\"\n",
    "    y = \"PALATE\"\n",
    "    result = alignment(x, y)\n",
    "    print(f\"\\nAlignment: {result}\")\n",
    "\n",
    "main()"
   ]
  },
  {
   "cell_type": "markdown",
   "metadata": {},
   "source": [
    "## Part 2 - Longest common subsequence (LCS)\n",
    "### 2.1 - Create LCS table"
   ]
  },
  {
   "cell_type": "code",
   "execution_count": 5,
   "metadata": {},
   "outputs": [
    {
     "name": "stdout",
     "output_type": "stream",
     "text": [
      "0 0 0 0 0 0 0 0\n",
      "0 0 0 0 0 0 1 1\n",
      "0 1 1 1 1 1 1 1\n",
      "0 1 1 2 2 2 2 2\n",
      "0 1 1 2 2 2 2 2\n",
      "0 1 1 2 3 3 3 3\n",
      "0 1 1 2 3 3 3 4\n",
      "0 1 2 2 3 3 3 4\n"
     ]
    }
   ],
   "source": [
    "def lcs_table(string1, string2):\n",
    "    # Create a 2D array with dimensions len(string1) + 1 and len(string2) + 1\n",
    "    # Each entry in the array should be initialized to 0\n",
    "    m, n = len(string1), len(string2)\n",
    "    table = [[0] * (m + 1) for _ in range(n + 1)]\n",
    "\n",
    "    # Fill in the table using dynamic programming to compute LCS length\n",
    "    for i in range(m + 1):\n",
    "        for j in range(n + 1):\n",
    "            if i == 0 or j == 0:\n",
    "                # Base case: The LCS of a string with an empty string is 0\n",
    "                table[i][j] = 0\n",
    "            elif string1[i - 1] == string2[j - 1]:\n",
    "                # Characters match, extend the LCS\n",
    "                table[i][j] = table[i - 1][j - 1] + 1\n",
    "            else:\n",
    "                # Characters don't match, choose the maximum of the two adjacent cells\n",
    "                table[i][j] = max(table[i - 1][j], table[i][j - 1])\n",
    "\n",
    "    # Return the table\n",
    "    return table\n",
    "\n",
    "# Example usage\n",
    "sequence_A = \"XMJYAUZ\"\n",
    "sequence_B = \"MZJAWXU\"\n",
    "table = lcs_table(sequence_A, sequence_B)\n",
    "for row in table:\n",
    "    print(*row)"
   ]
  },
  {
   "cell_type": "markdown",
   "metadata": {},
   "source": [
    "### 2.2 Return length of LCS"
   ]
  },
  {
   "cell_type": "code",
   "execution_count": 6,
   "metadata": {},
   "outputs": [
    {
     "name": "stdout",
     "output_type": "stream",
     "text": [
      "Length of LCS: 4\n"
     ]
    }
   ],
   "source": [
    "def lcs_length(string1, string2):\n",
    "    # Get the LCS table\n",
    "    table = lcs_table(string1, string2)\n",
    "\n",
    "    # Return the length of the LCS\n",
    "    return table[len(string1)][len(string2)]\n",
    "\n",
    "# Example usage\n",
    "sequence_A = \"XMJYAUZ\"\n",
    "sequence_B = \"MZJAWXU\"\n",
    "length = lcs_length(sequence_A, sequence_B)\n",
    "print(f\"Length of LCS: {length}\")"
   ]
  },
  {
   "cell_type": "markdown",
   "metadata": {},
   "source": [
    "### 2.3 Find the LCS"
   ]
  },
  {
   "cell_type": "code",
   "execution_count": 7,
   "metadata": {},
   "outputs": [
    {
     "name": "stdout",
     "output_type": "stream",
     "text": [
      "String of LCS: MJAU\n"
     ]
    }
   ],
   "source": [
    "def lcs(string1, string2):\n",
    "    table = lcs_table(string1, string2)\n",
    "    \n",
    "    # Construct the LCS by backtracking\n",
    "    lcs = []\n",
    "    i, j = len(string1), len(string2)\n",
    "    while i > 0 and j > 0:\n",
    "        if string1[i - 1] == string2[j - 1]:\n",
    "            # Characters match, add to LCS\n",
    "            lcs.append(string1[i - 1])\n",
    "            i -= 1\n",
    "            j -= 1\n",
    "        elif table[i - 1][j] > table[i][j - 1]:\n",
    "            i -= 1\n",
    "        else:\n",
    "            j -= 1\n",
    "    \n",
    "    # Reverse the LCS string and return it\n",
    "    return ''.join(reversed(lcs))\n",
    "\n",
    "# Example usage\n",
    "sequence_A = \"XMJYAUZ\"\n",
    "sequence_B = \"MZJAWXU\"\n",
    "text = lcs(sequence_A, sequence_B)\n",
    "print(f\"String of LCS: {text}\")"
   ]
  }
 ],
 "metadata": {
  "kernelspec": {
   "display_name": "Python 3.9.13 64-bit",
   "language": "python",
   "name": "python3"
  },
  "language_info": {
   "codemirror_mode": {
    "name": "ipython",
    "version": 3
   },
   "file_extension": ".py",
   "mimetype": "text/x-python",
   "name": "python",
   "nbconvert_exporter": "python",
   "pygments_lexer": "ipython3",
   "version": "3.11.6"
  },
  "orig_nbformat": 4,
  "vscode": {
   "interpreter": {
    "hash": "aee8b7b246df8f9039afb4144a1f6fd8d2ca17a180786b69acc140d282b71a49"
   }
  }
 },
 "nbformat": 4,
 "nbformat_minor": 2
}
