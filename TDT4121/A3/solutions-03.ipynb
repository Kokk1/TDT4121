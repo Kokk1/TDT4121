{
 "cells": [
  {
   "cell_type": "markdown",
   "metadata": {},
   "source": [
    "#### Solution\n",
    "# Assignment 3 - Graphs"
   ]
  },
  {
   "cell_type": "markdown",
   "metadata": {},
   "source": [
    "### Task 1: BFS to find shortest path"
   ]
  },
  {
   "cell_type": "code",
   "execution_count": null,
   "metadata": {},
   "outputs": [],
   "source": [
    "graph: dict = {\n",
    "    \"a\": [\"b\", \"d\"],\n",
    "    \"b\": [\"c\"],\n",
    "    \"c\": [\"f\"],\n",
    "    \"d\": [\"e\"],\n",
    "    \"e\": [\"b\", \"f\"],\n",
    "    \"f\": [],\n",
    "}"
   ]
  },
  {
   "cell_type": "code",
   "execution_count": null,
   "metadata": {},
   "outputs": [],
   "source": [
    "def BFS(graph: dict, start_node: str, end_node: str) -> list:\n",
    "    shortest_paths = {\n",
    "        start_node: [start_node],\n",
    "    }\n",
    "    # nodes already checked\n",
    "    visited = []\n",
    "    # nodes \"discovered\" through the graph\n",
    "    queue = [start_node]\n",
    "    while queue != []:\n",
    "        # visit first node in queue\n",
    "        node = queue.pop(0)\n",
    "        visited.append(node)\n",
    "        # get all edges from this node\n",
    "        edges = graph[node]\n",
    "\n",
    "        for edge in edges:\n",
    "            if edge in visited or edge in queue:  \n",
    "                # already checked/discovered this node, skip to next edge\n",
    "                continue\n",
    "            \n",
    "            # when finding an edge to a node in BFS we know we have found the shortest path to that node\n",
    "            shortest_paths[edge] = shortest_paths[node] + [edge]\n",
    "\n",
    "            if edge == end_node:  \n",
    "                # found shortest path to end\n",
    "                return shortest_paths[edge]\n",
    "            \n",
    "            queue.append(edge)\n",
    "\n",
    "    return []\n",
    "\n",
    "\n",
    "# Testing the function\n",
    "shortest_path = BFS(graph, \"a\", \"f\")\n",
    "print(shortest_path)"
   ]
  },
  {
   "cell_type": "markdown",
   "metadata": {},
   "source": [
    "### Task 2: Algorithm to find all topological orders"
   ]
  },
  {
   "cell_type": "code",
   "execution_count": null,
   "metadata": {},
   "outputs": [],
   "source": [
    "graph: dict = {\n",
    "    \"a\": [\"c\", \"d\"],\n",
    "    \"b\": [\"d\", \"e\"],\n",
    "    \"c\": [\"f\"],\n",
    "    \"d\": [],\n",
    "    \"e\": [],\n",
    "    \"f\": [\"e\"],\n",
    "}"
   ]
  },
  {
   "cell_type": "code",
   "execution_count": null,
   "metadata": {},
   "outputs": [],
   "source": [
    "def find_incoming_edges(graph: dict) -> dict:\n",
    "    incoming_edges = {}\n",
    "    for node in graph.keys():\n",
    "        incoming_edges[node] = 0\n",
    "\n",
    "    # iterate over all edges in the graph and increase the counters\n",
    "    for edges in graph.values():\n",
    "        for edge in edges:\n",
    "            incoming_edges[edge] += 1\n",
    "    return incoming_edges\n",
    "\n",
    "\n",
    "# Testing the function\n",
    "incoming_edges = find_incoming_edges(graph)\n",
    "print(incoming_edges)"
   ]
  },
  {
   "cell_type": "code",
   "execution_count": null,
   "metadata": {},
   "outputs": [],
   "source": [
    "def find_all_topological_orders(\n",
    "    graph: dict,\n",
    "    incoming_edges: dict = incoming_edges,\n",
    "    visited: list = [],\n",
    "    path: list = [],\n",
    ") -> list:\n",
    "\n",
    "    topological_orders = []\n",
    "    # do for every vertex\n",
    "    for node in graph.keys():\n",
    "\n",
    "        # We only want to check nodes that dont have uncoming edges, \n",
    "        # and haven't already been visited\n",
    "        if incoming_edges[node] != 0 or node in visited:\n",
    "            continue\n",
    "\n",
    "        # \"remove\" the edges coming from the visited node\n",
    "        # and add the node to the path while setting it as visited\n",
    "        for edge in graph[node]:\n",
    "            incoming_edges[edge] -= 1\n",
    "        path.append(node)\n",
    "        visited.append(node)\n",
    "\n",
    "        # Recursively do this with the graph that now has the node \"removed\"\n",
    "        topological_orders.extend(\n",
    "            find_all_topological_orders(\n",
    "                graph,\n",
    "                incoming_edges,\n",
    "                visited,\n",
    "                path,\n",
    "            )\n",
    "        )\n",
    "\n",
    "        # backtrack: \n",
    "        # We want to reset the changes we made so we can check other options\n",
    "        for edge in graph[node]:\n",
    "            incoming_edges[edge] += 1\n",
    "        path.pop()\n",
    "        visited.remove(node)\n",
    "\n",
    "    # If the path includes all nodes in the graph, we have a valid topological order\n",
    "    if len(path) == len(graph.keys()):\n",
    "        topological_orders.append(\"\".join(path))\n",
    "\n",
    "    return topological_orders\n",
    "\n",
    "\n",
    "# Testing the function\n",
    "orders = find_all_topological_orders(graph)\n",
    "print(f\"Found {len(orders)} topological orderings:\")\n",
    "for order in orders:\n",
    "    print(order)"
   ]
  }
 ],
 "metadata": {
  "kernelspec": {
   "display_name": "Python 3 (ipykernel)",
   "language": "python",
   "name": "python3"
  },
  "language_info": {
   "codemirror_mode": {
    "name": "ipython",
    "version": 3
   },
   "file_extension": ".py",
   "mimetype": "text/x-python",
   "name": "python",
   "nbconvert_exporter": "python",
   "pygments_lexer": "ipython3",
   "version": "3.12.5"
  },
  "vscode": {
   "interpreter": {
    "hash": "aee8b7b246df8f9039afb4144a1f6fd8d2ca17a180786b69acc140d282b71a49"
   }
  }
 },
 "nbformat": 4,
 "nbformat_minor": 4
}
